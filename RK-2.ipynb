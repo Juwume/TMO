{
 "cells": [
  {
   "cell_type": "code",
   "execution_count": 1,
   "id": "30073570",
   "metadata": {
    "scrolled": true
   },
   "outputs": [],
   "source": [
    "import pandas as pd\n",
    "import numpy as np\n",
    "import matplotlib.pyplot as plt\n",
    "import seaborn as sns\n",
    "import sklearn\n",
    "from sklearn import preprocessing\n",
    "from sklearn import svm\n",
    "from sklearn.model_selection import train_test_split, cross_val_score\n",
    "from sklearn.metrics import mean_absolute_error, mean_absolute_percentage_error, mean_squared_error\n",
    "from xgboost import XGBRegressor\n",
    "import shap"
   ]
  },
  {
   "cell_type": "markdown",
   "id": "05e434bf",
   "metadata": {},
   "source": [
    "## Reading data"
   ]
  },
  {
   "cell_type": "code",
   "execution_count": 34,
   "id": "b6ca3891",
   "metadata": {
    "scrolled": true
   },
   "outputs": [
    {
     "data": {
      "text/html": [
       "<div>\n",
       "<style scoped>\n",
       "    .dataframe tbody tr th:only-of-type {\n",
       "        vertical-align: middle;\n",
       "    }\n",
       "\n",
       "    .dataframe tbody tr th {\n",
       "        vertical-align: top;\n",
       "    }\n",
       "\n",
       "    .dataframe thead th {\n",
       "        text-align: right;\n",
       "    }\n",
       "</style>\n",
       "<table border=\"1\" class=\"dataframe\">\n",
       "  <thead>\n",
       "    <tr style=\"text-align: right;\">\n",
       "      <th></th>\n",
       "      <th>PRIMARY_KEY</th>\n",
       "      <th>STATE</th>\n",
       "      <th>YEAR</th>\n",
       "      <th>ENROLL</th>\n",
       "      <th>TOTAL_REVENUE</th>\n",
       "      <th>FEDERAL_REVENUE</th>\n",
       "      <th>STATE_REVENUE</th>\n",
       "      <th>LOCAL_REVENUE</th>\n",
       "      <th>TOTAL_EXPENDITURE</th>\n",
       "      <th>INSTRUCTION_EXPENDITURE</th>\n",
       "      <th>...</th>\n",
       "      <th>GRADES_4_G</th>\n",
       "      <th>GRADES_8_G</th>\n",
       "      <th>GRADES_12_G</th>\n",
       "      <th>GRADES_1_8_G</th>\n",
       "      <th>GRADES_9_12_G</th>\n",
       "      <th>GRADES_ALL_G</th>\n",
       "      <th>AVG_MATH_4_SCORE</th>\n",
       "      <th>AVG_MATH_8_SCORE</th>\n",
       "      <th>AVG_READING_4_SCORE</th>\n",
       "      <th>AVG_READING_8_SCORE</th>\n",
       "    </tr>\n",
       "  </thead>\n",
       "  <tbody>\n",
       "    <tr>\n",
       "      <th>0</th>\n",
       "      <td>1992_ALABAMA</td>\n",
       "      <td>ALABAMA</td>\n",
       "      <td>1992</td>\n",
       "      <td>NaN</td>\n",
       "      <td>2678885.0</td>\n",
       "      <td>304177.0</td>\n",
       "      <td>1659028.0</td>\n",
       "      <td>715680.0</td>\n",
       "      <td>2653798.0</td>\n",
       "      <td>1481703.0</td>\n",
       "      <td>...</td>\n",
       "      <td>57948.0</td>\n",
       "      <td>58025.0</td>\n",
       "      <td>41167.0</td>\n",
       "      <td>NaN</td>\n",
       "      <td>NaN</td>\n",
       "      <td>731634.0</td>\n",
       "      <td>208.0</td>\n",
       "      <td>252.0</td>\n",
       "      <td>207.0</td>\n",
       "      <td>NaN</td>\n",
       "    </tr>\n",
       "    <tr>\n",
       "      <th>1</th>\n",
       "      <td>1992_ALASKA</td>\n",
       "      <td>ALASKA</td>\n",
       "      <td>1992</td>\n",
       "      <td>NaN</td>\n",
       "      <td>1049591.0</td>\n",
       "      <td>106780.0</td>\n",
       "      <td>720711.0</td>\n",
       "      <td>222100.0</td>\n",
       "      <td>972488.0</td>\n",
       "      <td>498362.0</td>\n",
       "      <td>...</td>\n",
       "      <td>9748.0</td>\n",
       "      <td>8789.0</td>\n",
       "      <td>6714.0</td>\n",
       "      <td>NaN</td>\n",
       "      <td>NaN</td>\n",
       "      <td>122487.0</td>\n",
       "      <td>NaN</td>\n",
       "      <td>NaN</td>\n",
       "      <td>NaN</td>\n",
       "      <td>NaN</td>\n",
       "    </tr>\n",
       "    <tr>\n",
       "      <th>2</th>\n",
       "      <td>1992_ARIZONA</td>\n",
       "      <td>ARIZONA</td>\n",
       "      <td>1992</td>\n",
       "      <td>NaN</td>\n",
       "      <td>3258079.0</td>\n",
       "      <td>297888.0</td>\n",
       "      <td>1369815.0</td>\n",
       "      <td>1590376.0</td>\n",
       "      <td>3401580.0</td>\n",
       "      <td>1435908.0</td>\n",
       "      <td>...</td>\n",
       "      <td>55433.0</td>\n",
       "      <td>49081.0</td>\n",
       "      <td>37410.0</td>\n",
       "      <td>NaN</td>\n",
       "      <td>NaN</td>\n",
       "      <td>673477.0</td>\n",
       "      <td>215.0</td>\n",
       "      <td>265.0</td>\n",
       "      <td>209.0</td>\n",
       "      <td>NaN</td>\n",
       "    </tr>\n",
       "    <tr>\n",
       "      <th>3</th>\n",
       "      <td>1992_ARKANSAS</td>\n",
       "      <td>ARKANSAS</td>\n",
       "      <td>1992</td>\n",
       "      <td>NaN</td>\n",
       "      <td>1711959.0</td>\n",
       "      <td>178571.0</td>\n",
       "      <td>958785.0</td>\n",
       "      <td>574603.0</td>\n",
       "      <td>1743022.0</td>\n",
       "      <td>964323.0</td>\n",
       "      <td>...</td>\n",
       "      <td>34632.0</td>\n",
       "      <td>36011.0</td>\n",
       "      <td>27651.0</td>\n",
       "      <td>NaN</td>\n",
       "      <td>NaN</td>\n",
       "      <td>441490.0</td>\n",
       "      <td>210.0</td>\n",
       "      <td>256.0</td>\n",
       "      <td>211.0</td>\n",
       "      <td>NaN</td>\n",
       "    </tr>\n",
       "    <tr>\n",
       "      <th>4</th>\n",
       "      <td>1992_CALIFORNIA</td>\n",
       "      <td>CALIFORNIA</td>\n",
       "      <td>1992</td>\n",
       "      <td>NaN</td>\n",
       "      <td>26260025.0</td>\n",
       "      <td>2072470.0</td>\n",
       "      <td>16546514.0</td>\n",
       "      <td>7641041.0</td>\n",
       "      <td>27138832.0</td>\n",
       "      <td>14358922.0</td>\n",
       "      <td>...</td>\n",
       "      <td>418418.0</td>\n",
       "      <td>363296.0</td>\n",
       "      <td>270675.0</td>\n",
       "      <td>NaN</td>\n",
       "      <td>NaN</td>\n",
       "      <td>5254844.0</td>\n",
       "      <td>208.0</td>\n",
       "      <td>261.0</td>\n",
       "      <td>202.0</td>\n",
       "      <td>NaN</td>\n",
       "    </tr>\n",
       "    <tr>\n",
       "      <th>...</th>\n",
       "      <td>...</td>\n",
       "      <td>...</td>\n",
       "      <td>...</td>\n",
       "      <td>...</td>\n",
       "      <td>...</td>\n",
       "      <td>...</td>\n",
       "      <td>...</td>\n",
       "      <td>...</td>\n",
       "      <td>...</td>\n",
       "      <td>...</td>\n",
       "      <td>...</td>\n",
       "      <td>...</td>\n",
       "      <td>...</td>\n",
       "      <td>...</td>\n",
       "      <td>...</td>\n",
       "      <td>...</td>\n",
       "      <td>...</td>\n",
       "      <td>...</td>\n",
       "      <td>...</td>\n",
       "      <td>...</td>\n",
       "      <td>...</td>\n",
       "    </tr>\n",
       "    <tr>\n",
       "      <th>1710</th>\n",
       "      <td>2019_VIRGINIA</td>\n",
       "      <td>VIRGINIA</td>\n",
       "      <td>2019</td>\n",
       "      <td>NaN</td>\n",
       "      <td>NaN</td>\n",
       "      <td>NaN</td>\n",
       "      <td>NaN</td>\n",
       "      <td>NaN</td>\n",
       "      <td>NaN</td>\n",
       "      <td>NaN</td>\n",
       "      <td>...</td>\n",
       "      <td>NaN</td>\n",
       "      <td>NaN</td>\n",
       "      <td>NaN</td>\n",
       "      <td>NaN</td>\n",
       "      <td>NaN</td>\n",
       "      <td>NaN</td>\n",
       "      <td>247.0</td>\n",
       "      <td>287.0</td>\n",
       "      <td>224.0</td>\n",
       "      <td>262.0</td>\n",
       "    </tr>\n",
       "    <tr>\n",
       "      <th>1711</th>\n",
       "      <td>2019_WASHINGTON</td>\n",
       "      <td>WASHINGTON</td>\n",
       "      <td>2019</td>\n",
       "      <td>NaN</td>\n",
       "      <td>NaN</td>\n",
       "      <td>NaN</td>\n",
       "      <td>NaN</td>\n",
       "      <td>NaN</td>\n",
       "      <td>NaN</td>\n",
       "      <td>NaN</td>\n",
       "      <td>...</td>\n",
       "      <td>NaN</td>\n",
       "      <td>NaN</td>\n",
       "      <td>NaN</td>\n",
       "      <td>NaN</td>\n",
       "      <td>NaN</td>\n",
       "      <td>NaN</td>\n",
       "      <td>240.0</td>\n",
       "      <td>286.0</td>\n",
       "      <td>220.0</td>\n",
       "      <td>266.0</td>\n",
       "    </tr>\n",
       "    <tr>\n",
       "      <th>1712</th>\n",
       "      <td>2019_WEST_VIRGINIA</td>\n",
       "      <td>WEST_VIRGINIA</td>\n",
       "      <td>2019</td>\n",
       "      <td>NaN</td>\n",
       "      <td>NaN</td>\n",
       "      <td>NaN</td>\n",
       "      <td>NaN</td>\n",
       "      <td>NaN</td>\n",
       "      <td>NaN</td>\n",
       "      <td>NaN</td>\n",
       "      <td>...</td>\n",
       "      <td>NaN</td>\n",
       "      <td>NaN</td>\n",
       "      <td>NaN</td>\n",
       "      <td>NaN</td>\n",
       "      <td>NaN</td>\n",
       "      <td>NaN</td>\n",
       "      <td>231.0</td>\n",
       "      <td>272.0</td>\n",
       "      <td>213.0</td>\n",
       "      <td>256.0</td>\n",
       "    </tr>\n",
       "    <tr>\n",
       "      <th>1713</th>\n",
       "      <td>2019_WISCONSIN</td>\n",
       "      <td>WISCONSIN</td>\n",
       "      <td>2019</td>\n",
       "      <td>NaN</td>\n",
       "      <td>NaN</td>\n",
       "      <td>NaN</td>\n",
       "      <td>NaN</td>\n",
       "      <td>NaN</td>\n",
       "      <td>NaN</td>\n",
       "      <td>NaN</td>\n",
       "      <td>...</td>\n",
       "      <td>NaN</td>\n",
       "      <td>NaN</td>\n",
       "      <td>NaN</td>\n",
       "      <td>NaN</td>\n",
       "      <td>NaN</td>\n",
       "      <td>NaN</td>\n",
       "      <td>242.0</td>\n",
       "      <td>289.0</td>\n",
       "      <td>220.0</td>\n",
       "      <td>267.0</td>\n",
       "    </tr>\n",
       "    <tr>\n",
       "      <th>1714</th>\n",
       "      <td>2019_WYOMING</td>\n",
       "      <td>WYOMING</td>\n",
       "      <td>2019</td>\n",
       "      <td>NaN</td>\n",
       "      <td>NaN</td>\n",
       "      <td>NaN</td>\n",
       "      <td>NaN</td>\n",
       "      <td>NaN</td>\n",
       "      <td>NaN</td>\n",
       "      <td>NaN</td>\n",
       "      <td>...</td>\n",
       "      <td>NaN</td>\n",
       "      <td>NaN</td>\n",
       "      <td>NaN</td>\n",
       "      <td>NaN</td>\n",
       "      <td>NaN</td>\n",
       "      <td>NaN</td>\n",
       "      <td>246.0</td>\n",
       "      <td>286.0</td>\n",
       "      <td>227.0</td>\n",
       "      <td>265.0</td>\n",
       "    </tr>\n",
       "  </tbody>\n",
       "</table>\n",
       "<p>1715 rows × 25 columns</p>\n",
       "</div>"
      ],
      "text/plain": [
       "             PRIMARY_KEY          STATE  YEAR  ENROLL  TOTAL_REVENUE  \\\n",
       "0           1992_ALABAMA        ALABAMA  1992     NaN      2678885.0   \n",
       "1            1992_ALASKA         ALASKA  1992     NaN      1049591.0   \n",
       "2           1992_ARIZONA        ARIZONA  1992     NaN      3258079.0   \n",
       "3          1992_ARKANSAS       ARKANSAS  1992     NaN      1711959.0   \n",
       "4        1992_CALIFORNIA     CALIFORNIA  1992     NaN     26260025.0   \n",
       "...                  ...            ...   ...     ...            ...   \n",
       "1710       2019_VIRGINIA       VIRGINIA  2019     NaN            NaN   \n",
       "1711     2019_WASHINGTON     WASHINGTON  2019     NaN            NaN   \n",
       "1712  2019_WEST_VIRGINIA  WEST_VIRGINIA  2019     NaN            NaN   \n",
       "1713      2019_WISCONSIN      WISCONSIN  2019     NaN            NaN   \n",
       "1714        2019_WYOMING        WYOMING  2019     NaN            NaN   \n",
       "\n",
       "      FEDERAL_REVENUE  STATE_REVENUE  LOCAL_REVENUE  TOTAL_EXPENDITURE  \\\n",
       "0            304177.0      1659028.0       715680.0          2653798.0   \n",
       "1            106780.0       720711.0       222100.0           972488.0   \n",
       "2            297888.0      1369815.0      1590376.0          3401580.0   \n",
       "3            178571.0       958785.0       574603.0          1743022.0   \n",
       "4           2072470.0     16546514.0      7641041.0         27138832.0   \n",
       "...               ...            ...            ...                ...   \n",
       "1710              NaN            NaN            NaN                NaN   \n",
       "1711              NaN            NaN            NaN                NaN   \n",
       "1712              NaN            NaN            NaN                NaN   \n",
       "1713              NaN            NaN            NaN                NaN   \n",
       "1714              NaN            NaN            NaN                NaN   \n",
       "\n",
       "      INSTRUCTION_EXPENDITURE  ...  GRADES_4_G  GRADES_8_G  GRADES_12_G  \\\n",
       "0                   1481703.0  ...     57948.0     58025.0      41167.0   \n",
       "1                    498362.0  ...      9748.0      8789.0       6714.0   \n",
       "2                   1435908.0  ...     55433.0     49081.0      37410.0   \n",
       "3                    964323.0  ...     34632.0     36011.0      27651.0   \n",
       "4                  14358922.0  ...    418418.0    363296.0     270675.0   \n",
       "...                       ...  ...         ...         ...          ...   \n",
       "1710                      NaN  ...         NaN         NaN          NaN   \n",
       "1711                      NaN  ...         NaN         NaN          NaN   \n",
       "1712                      NaN  ...         NaN         NaN          NaN   \n",
       "1713                      NaN  ...         NaN         NaN          NaN   \n",
       "1714                      NaN  ...         NaN         NaN          NaN   \n",
       "\n",
       "      GRADES_1_8_G  GRADES_9_12_G  GRADES_ALL_G  AVG_MATH_4_SCORE  \\\n",
       "0              NaN            NaN      731634.0             208.0   \n",
       "1              NaN            NaN      122487.0               NaN   \n",
       "2              NaN            NaN      673477.0             215.0   \n",
       "3              NaN            NaN      441490.0             210.0   \n",
       "4              NaN            NaN     5254844.0             208.0   \n",
       "...            ...            ...           ...               ...   \n",
       "1710           NaN            NaN           NaN             247.0   \n",
       "1711           NaN            NaN           NaN             240.0   \n",
       "1712           NaN            NaN           NaN             231.0   \n",
       "1713           NaN            NaN           NaN             242.0   \n",
       "1714           NaN            NaN           NaN             246.0   \n",
       "\n",
       "      AVG_MATH_8_SCORE  AVG_READING_4_SCORE  AVG_READING_8_SCORE  \n",
       "0                252.0                207.0                  NaN  \n",
       "1                  NaN                  NaN                  NaN  \n",
       "2                265.0                209.0                  NaN  \n",
       "3                256.0                211.0                  NaN  \n",
       "4                261.0                202.0                  NaN  \n",
       "...                ...                  ...                  ...  \n",
       "1710             287.0                224.0                262.0  \n",
       "1711             286.0                220.0                266.0  \n",
       "1712             272.0                213.0                256.0  \n",
       "1713             289.0                220.0                267.0  \n",
       "1714             286.0                227.0                265.0  \n",
       "\n",
       "[1715 rows x 25 columns]"
      ]
     },
     "execution_count": 34,
     "metadata": {},
     "output_type": "execute_result"
    }
   ],
   "source": [
    "data = pd.read_csv(\"states_all.csv\")\n",
    "data"
   ]
  },
  {
   "cell_type": "code",
   "execution_count": 35,
   "id": "fb67d0fc",
   "metadata": {
    "scrolled": false
   },
   "outputs": [
    {
     "data": {
      "text/plain": [
       "['PRIMARY_KEY',\n",
       " 'STATE',\n",
       " 'YEAR',\n",
       " 'ENROLL',\n",
       " 'TOTAL_REVENUE',\n",
       " 'FEDERAL_REVENUE',\n",
       " 'STATE_REVENUE',\n",
       " 'LOCAL_REVENUE',\n",
       " 'TOTAL_EXPENDITURE',\n",
       " 'INSTRUCTION_EXPENDITURE',\n",
       " 'SUPPORT_SERVICES_EXPENDITURE',\n",
       " 'OTHER_EXPENDITURE',\n",
       " 'CAPITAL_OUTLAY_EXPENDITURE',\n",
       " 'GRADES_PK_G',\n",
       " 'GRADES_KG_G',\n",
       " 'GRADES_4_G',\n",
       " 'GRADES_8_G',\n",
       " 'GRADES_12_G',\n",
       " 'GRADES_1_8_G',\n",
       " 'GRADES_9_12_G',\n",
       " 'GRADES_ALL_G',\n",
       " 'AVG_MATH_4_SCORE',\n",
       " 'AVG_MATH_8_SCORE',\n",
       " 'AVG_READING_4_SCORE',\n",
       " 'AVG_READING_8_SCORE']"
      ]
     },
     "execution_count": 35,
     "metadata": {},
     "output_type": "execute_result"
    }
   ],
   "source": [
    "data.keys().to_list()"
   ]
  },
  {
   "cell_type": "code",
   "execution_count": 36,
   "id": "7c598906",
   "metadata": {
    "scrolled": true
   },
   "outputs": [
    {
     "data": {
      "image/png": "[encoded data removed]",
      "text/plain": [
       "<Figure size 720x360 with 2 Axes>"
      ]
     },
     "metadata": {
      "needs_background": "light"
     },
     "output_type": "display_data"
    }
   ],
   "source": [
    "fig, ax = plt.subplots(figsize=(10,5))\n",
    "matrix = np.triu(data[cols].corr())\n",
    "ax = sns.heatmap(data[cols].corr(), annot = True, fmt='.1g',cmap= 'coolwarm',mask=matrix)"
   ]
  },
  {
   "cell_type": "markdown",
   "id": "4b479d20",
   "metadata": {},
   "source": [
    "## Counting NaN Values"
   ]
  },
  {
   "cell_type": "code",
   "execution_count": 37,
   "id": "f3033d30",
   "metadata": {
    "scrolled": false
   },
   "outputs": [
    {
     "data": {
      "text/plain": [
       "PRIMARY_KEY                        0\n",
       "STATE                              0\n",
       "YEAR                               0\n",
       "ENROLL                           491\n",
       "TOTAL_REVENUE                    440\n",
       "FEDERAL_REVENUE                  440\n",
       "STATE_REVENUE                    440\n",
       "LOCAL_REVENUE                    440\n",
       "TOTAL_EXPENDITURE                440\n",
       "INSTRUCTION_EXPENDITURE          440\n",
       "SUPPORT_SERVICES_EXPENDITURE     440\n",
       "OTHER_EXPENDITURE                491\n",
       "CAPITAL_OUTLAY_EXPENDITURE       440\n",
       "GRADES_PK_G                      173\n",
       "GRADES_KG_G                       83\n",
       "GRADES_4_G                        83\n",
       "GRADES_8_G                        83\n",
       "GRADES_12_G                       83\n",
       "GRADES_1_8_G                     695\n",
       "GRADES_9_12_G                    644\n",
       "GRADES_ALL_G                      83\n",
       "AVG_MATH_4_SCORE                1150\n",
       "AVG_MATH_8_SCORE                1113\n",
       "AVG_READING_4_SCORE             1065\n",
       "AVG_READING_8_SCORE             1153\n",
       "dtype: int64"
      ]
     },
     "execution_count": 37,
     "metadata": {},
     "output_type": "execute_result"
    }
   ],
   "source": [
    "data.isna().sum()"
   ]
  },
  {
   "cell_type": "markdown",
   "id": "8a773da3",
   "metadata": {},
   "source": [
    "## Removing NaN values from target"
   ]
  },
  {
   "cell_type": "markdown",
   "id": "9d5850fd",
   "metadata": {},
   "source": [
    "Решил выбрать в качестве цели оценки за 8-й класс, потому что я думаю, что лучше оценивать оценки в средней или средней школе. Мы можем спрогнозировать, как наши инвестиции повлияют на уровень знаний учеников."
   ]
  },
  {
   "cell_type": "code",
   "execution_count": 5,
   "id": "3a697aef",
   "metadata": {},
   "outputs": [],
   "source": [
    "#data = data[(data['AVG_MATH_8_SCORE'].isna() == False) & (data['AVG_READING_8_SCORE'].isna() == False)]\n",
    "data = data[(data['AVG_MATH_8_SCORE'].isna() == False)]"
   ]
  },
  {
   "cell_type": "code",
   "execution_count": 6,
   "id": "372a71a6",
   "metadata": {},
   "outputs": [],
   "source": [
    "cols = ['YEAR',\n",
    " 'ENROLL',\n",
    " 'FEDERAL_REVENUE',\n",
    " 'STATE_REVENUE',\n",
    " 'LOCAL_REVENUE',\n",
    " 'INSTRUCTION_EXPENDITURE',\n",
    " 'SUPPORT_SERVICES_EXPENDITURE',\n",
    " 'OTHER_EXPENDITURE',\n",
    " 'CAPITAL_OUTLAY_EXPENDITURE',\n",
    " 'GRADES_ALL_G',\n",
    " 'AVG_MATH_4_SCORE',\n",
    " 'AVG_MATH_8_SCORE',\n",
    " 'AVG_READING_4_SCORE',\n",
    " 'AVG_READING_8_SCORE']"
   ]
  },
  {
   "cell_type": "code",
   "execution_count": 7,
   "id": "ced085cf",
   "metadata": {},
   "outputs": [],
   "source": [
    "data = data[cols]"
   ]
  },
  {
   "cell_type": "markdown",
   "id": "fff467c4",
   "metadata": {},
   "source": [
    "## Filling NaN"
   ]
  },
  {
   "cell_type": "markdown",
   "id": "f44cc88a",
   "metadata": {},
   "source": [
    "Заполняю пробелы средними значениями"
   ]
  },
  {
   "cell_type": "code",
   "execution_count": 8,
   "id": "862a411e",
   "metadata": {},
   "outputs": [],
   "source": [
    "data['ENROLL'] = data['ENROLL'].fillna(data['ENROLL'].mean())\n",
    "data['FEDERAL_REVENUE'] = data['FEDERAL_REVENUE'].fillna(data['FEDERAL_REVENUE'].mean())\n",
    "data['STATE_REVENUE'] = data['STATE_REVENUE'].fillna(data['STATE_REVENUE'].mean())\n",
    "data['LOCAL_REVENUE'] = data['LOCAL_REVENUE'].fillna(data['LOCAL_REVENUE'].mean())\n",
    "data['INSTRUCTION_EXPENDITURE'] = data['INSTRUCTION_EXPENDITURE'].fillna(data['INSTRUCTION_EXPENDITURE'].mean())\n",
    "data['SUPPORT_SERVICES_EXPENDITURE'] = data['SUPPORT_SERVICES_EXPENDITURE'].fillna(data['SUPPORT_SERVICES_EXPENDITURE'].mean())\n",
    "data['OTHER_EXPENDITURE'] = data['OTHER_EXPENDITURE'].fillna(data['OTHER_EXPENDITURE'].mean())\n",
    "data['CAPITAL_OUTLAY_EXPENDITURE'] = data['CAPITAL_OUTLAY_EXPENDITURE'].fillna(data['CAPITAL_OUTLAY_EXPENDITURE'].mean())\n",
    "data['GRADES_ALL_G'] = data['GRADES_ALL_G'].fillna(data['GRADES_ALL_G'].mean())"
   ]
  },
  {
   "cell_type": "markdown",
   "id": "0b6d6b03",
   "metadata": {},
   "source": [
    "## Pre-processing"
   ]
  },
  {
   "cell_type": "code",
   "execution_count": 9,
   "id": "543180c6",
   "metadata": {},
   "outputs": [],
   "source": [
    "X_data = data[['YEAR',\n",
    " 'ENROLL',\n",
    " 'FEDERAL_REVENUE',\n",
    " 'STATE_REVENUE',\n",
    " 'LOCAL_REVENUE',\n",
    " 'INSTRUCTION_EXPENDITURE',\n",
    " 'SUPPORT_SERVICES_EXPENDITURE',\n",
    " 'OTHER_EXPENDITURE',\n",
    " 'CAPITAL_OUTLAY_EXPENDITURE',\n",
    " 'GRADES_ALL_G']] \n",
    "Y_data = data['AVG_MATH_8_SCORE'].to_list()"
   ]
  },
  {
   "cell_type": "code",
   "execution_count": 10,
   "id": "4cf2822a",
   "metadata": {
    "scrolled": false
   },
   "outputs": [
    {
     "name": "stderr",
     "output_type": "stream",
     "text": [
      "\n",
      "A value is trying to be set on a copy of a slice from a DataFrame.\n",
      "Try using .loc[row_indexer,col_indexer] = value instead\n",
      "\n",
      "See the caveats in the documentation: https://pandas.pydata.org/pandas-docs/stable/user_guide/indexing.html#returning-a-view-versus-a-copy\n"
     ]
    }
   ],
   "source": [
    "X_data['YEAR'] = data['YEAR'] - data['YEAR'].mean()"
   ]
  },
  {
   "cell_type": "code",
   "execution_count": 11,
   "id": "38fcc80d",
   "metadata": {
    "scrolled": true
   },
   "outputs": [],
   "source": [
    "X_data = preprocessing.normalize(X_data,axis = 0)"
   ]
  },
  {
   "cell_type": "code",
   "execution_count": 12,
   "id": "2fcf6a3e",
   "metadata": {
    "scrolled": true
   },
   "outputs": [
    {
     "data": {
      "text/plain": [
       "(602, 10)"
      ]
     },
     "execution_count": 12,
     "metadata": {},
     "output_type": "execute_result"
    }
   ],
   "source": [
    "X_data.shape"
   ]
  },
  {
   "cell_type": "code",
   "execution_count": 13,
   "id": "15e2d601",
   "metadata": {},
   "outputs": [],
   "source": [
    "X_train, X_test, y_train, y_test = train_test_split(\n",
    "     X_data, Y_data, test_size=0.3, random_state=42)"
   ]
  },
  {
   "cell_type": "markdown",
   "id": "2c73e1e9",
   "metadata": {},
   "source": [
    "## Testing SVM"
   ]
  },
  {
   "cell_type": "markdown",
   "id": "b834c460",
   "metadata": {},
   "source": [
    "Выбрал MAE, MSE и MAPE для оценки качества, так как это самые показательные метрики для регрессии "
   ]
  },
  {
   "cell_type": "code",
   "execution_count": 14,
   "id": "91bf3f07",
   "metadata": {
    "scrolled": true
   },
   "outputs": [
    {
     "name": "stdout",
     "output_type": "stream",
     "text": [
      "SVM Errors\n",
      "MAE:6.465 MAPE:0.024 MSE:76.431\n"
     ]
    }
   ],
   "source": [
    "svm_model = svm.SVR()\n",
    "mape = -cross_val_score(svm_model,X_train,y_train,cv=4,scoring='neg_mean_absolute_percentage_error').mean()\n",
    "mae = -cross_val_score(svm_model,X_train,y_train,cv=4,scoring='neg_mean_absolute_error').mean()\n",
    "mse = -cross_val_score(svm_model,X_train,y_train,cv=4,scoring='neg_mean_squared_error').mean()\n",
    "print('SVM Errors')\n",
    "print('MAE:' + str(round(mae,3)) + ' MAPE:' + str(round(mape,3)) + ' MSE:' + str(round(mse,3)))"
   ]
  },
  {
   "cell_type": "code",
   "execution_count": 15,
   "id": "40c110bf",
   "metadata": {},
   "outputs": [
    {
     "name": "stdout",
     "output_type": "stream",
     "text": [
      "MAE:6.121 MAPE:0.023 MSE:67.871\n"
     ]
    }
   ],
   "source": [
    "svm_model.fit(X_train,y_train)\n",
    "mae = mean_absolute_error(y_test,svm_model.predict(X_test)) \n",
    "mape = mean_absolute_percentage_error(y_test,svm_model.predict(X_test)) \n",
    "mse = mean_squared_error(y_test,svm_model.predict(X_test)) \n",
    "print('MAE:' + str(round(mae,3)) + ' MAPE:' + str(round(mape,3)) + ' MSE:' + str(round(mse,3)))"
   ]
  },
  {
   "cell_type": "markdown",
   "id": "b539c5b9",
   "metadata": {},
   "source": [
    "## XGBoost model"
   ]
  },
  {
   "cell_type": "code",
   "execution_count": 16,
   "id": "9f66f39d",
   "metadata": {
    "scrolled": false
   },
   "outputs": [
    {
     "name": "stdout",
     "output_type": "stream",
     "text": [
      "SVM Errors\n",
      "MAE:4.639 MAPE:0.017 MSE:39.966\n"
     ]
    }
   ],
   "source": [
    "XGB_model = XGBRegressor()\n",
    "mape = -cross_val_score(XGB_model,X_train,y_train,cv=4,scoring='neg_mean_absolute_percentage_error').mean()\n",
    "mae = -cross_val_score(XGB_model,X_train,y_train,cv=4,scoring='neg_mean_absolute_error').mean()\n",
    "mse = -cross_val_score(XGB_model,X_train,y_train,cv=4,scoring='neg_mean_squared_error').mean()\n",
    "print('SVM Errors')\n",
    "print('MAE:' + str(round(mae,3)) + ' MAPE:' + str(round(mape,3)) + ' MSE:' + str(round(mse,3)))"
   ]
  },
  {
   "cell_type": "code",
   "execution_count": 17,
   "id": "50e1742e",
   "metadata": {
    "scrolled": false
   },
   "outputs": [
    {
     "name": "stdout",
     "output_type": "stream",
     "text": [
      "MAE:4.454 MAPE:0.016 MSE:35.787\n"
     ]
    }
   ],
   "source": [
    "XGB_model.fit(X_train,y_train)\n",
    "mae = mean_absolute_error(y_test,XGB_model.predict(X_test)) \n",
    "mape = mean_absolute_percentage_error(y_test,XGB_model.predict(X_test)) \n",
    "mse = mean_squared_error(y_test,XGB_model.predict(X_test)) \n",
    "print('MAE:' + str(round(mae,3)) + ' MAPE:' + str(round(mape,3)) + ' MSE:' + str(round(mse,3)))"
   ]
  },
  {
   "cell_type": "markdown",
   "id": "3ae943ae",
   "metadata": {},
   "source": [
    "## Trying to make a model with average values per student"
   ]
  },
  {
   "cell_type": "code",
   "execution_count": 18,
   "id": "b75c5972",
   "metadata": {},
   "outputs": [],
   "source": [
    "data['AVG_ENROLL'] = data['ENROLL'].fillna(data['ENROLL'].mean())\n",
    "data['AVG_FEDERAL_REVENUE'] = data['FEDERAL_REVENUE'] / data['GRADES_ALL_G']\n",
    "data['AVG_STATE_REVENUE'] = data['STATE_REVENUE'] / data['GRADES_ALL_G']\n",
    "data['AVG_LOCAL_REVENUE'] = data['LOCAL_REVENUE'] / data['GRADES_ALL_G']\n",
    "data['AVG_INSTRUCTION_EXPENDITURE'] = data['INSTRUCTION_EXPENDITURE'] / data['GRADES_ALL_G']\n",
    "data['AVG_SUPPORT_SERVICES_EXPENDITURE'] = data['SUPPORT_SERVICES_EXPENDITURE'] / data['GRADES_ALL_G']\n",
    "data['AVG_OTHER_EXPENDITURE'] = data['OTHER_EXPENDITURE'] / data['GRADES_ALL_G']\n",
    "data['AVG_CAPITAL_OUTLAY_EXPENDITURE'] = data['CAPITAL_OUTLAY_EXPENDITURE'] / data['GRADES_ALL_G']\n"
   ]
  },
  {
   "cell_type": "code",
   "execution_count": 19,
   "id": "8b96129a",
   "metadata": {},
   "outputs": [],
   "source": [
    "X_data = data[['YEAR',\n",
    " 'AVG_ENROLL',\n",
    " 'AVG_FEDERAL_REVENUE',\n",
    " 'AVG_STATE_REVENUE',\n",
    " 'AVG_LOCAL_REVENUE',\n",
    " 'AVG_INSTRUCTION_EXPENDITURE',\n",
    " 'AVG_SUPPORT_SERVICES_EXPENDITURE',\n",
    " 'AVG_OTHER_EXPENDITURE',\n",
    " 'AVG_CAPITAL_OUTLAY_EXPENDITURE']] \n",
    "Y_data = data['AVG_MATH_8_SCORE'].to_list()"
   ]
  },
  {
   "cell_type": "code",
   "execution_count": 20,
   "id": "a4c26092",
   "metadata": {},
   "outputs": [
    {
     "name": "stderr",
     "output_type": "stream",
     "text": [
      "\n",
      "A value is trying to be set on a copy of a slice from a DataFrame.\n",
      "Try using .loc[row_indexer,col_indexer] = value instead\n",
      "\n",
      "See the caveats in the documentation: https://pandas.pydata.org/pandas-docs/stable/user_guide/indexing.html#returning-a-view-versus-a-copy\n"
     ]
    }
   ],
   "source": [
    "X_data['YEAR'] = data['YEAR'] - data['YEAR'].mean()"
   ]
  },
  {
   "cell_type": "code",
   "execution_count": 21,
   "id": "f2feb914",
   "metadata": {},
   "outputs": [],
   "source": [
    "X_data = preprocessing.normalize(X_data,axis = 0)"
   ]
  },
  {
   "cell_type": "code",
   "execution_count": 22,
   "id": "d605a38c",
   "metadata": {},
   "outputs": [
    {
     "data": {
      "text/plain": [
       "(602, 9)"
      ]
     },
     "execution_count": 22,
     "metadata": {},
     "output_type": "execute_result"
    }
   ],
   "source": [
    "X_data.shape"
   ]
  },
  {
   "cell_type": "code",
   "execution_count": 23,
   "id": "4e43c18e",
   "metadata": {},
   "outputs": [],
   "source": [
    "X_train, X_test, y_train, y_test = train_test_split(\n",
    "     X_data, Y_data, test_size=0.3, random_state=42)"
   ]
  },
  {
   "cell_type": "markdown",
   "id": "87659a27",
   "metadata": {},
   "source": [
    "## Testing SVM"
   ]
  },
  {
   "cell_type": "code",
   "execution_count": 24,
   "id": "f749bd8f",
   "metadata": {
    "scrolled": true
   },
   "outputs": [
    {
     "name": "stdout",
     "output_type": "stream",
     "text": [
      "SVM Errors\n",
      "MAE:6.352 MAPE:0.023 MSE:74.284\n"
     ]
    }
   ],
   "source": [
    "svm_model = svm.SVR()\n",
    "mape = -cross_val_score(svm_model,X_train,y_train,cv=4,scoring='neg_mean_absolute_percentage_error').mean()\n",
    "mae = -cross_val_score(svm_model,X_train,y_train,cv=4,scoring='neg_mean_absolute_error').mean()\n",
    "mse = -cross_val_score(svm_model,X_train,y_train,cv=4,scoring='neg_mean_squared_error').mean()\n",
    "print('SVM Errors')\n",
    "print('MAE:' + str(round(mae,3)) + ' MAPE:' + str(round(mape,3)) + ' MSE:' + str(round(mse,3)))"
   ]
  },
  {
   "cell_type": "code",
   "execution_count": 25,
   "id": "d34e9f15",
   "metadata": {},
   "outputs": [
    {
     "name": "stdout",
     "output_type": "stream",
     "text": [
      "MAE:5.888 MAPE:0.022 MSE:62.124\n"
     ]
    }
   ],
   "source": [
    "svm_model.fit(X_train,y_train)\n",
    "mae = mean_absolute_error(y_test,svm_model.predict(X_test)) \n",
    "mape = mean_absolute_percentage_error(y_test,svm_model.predict(X_test)) \n",
    "mse = mean_squared_error(y_test,svm_model.predict(X_test)) \n",
    "print('MAE:' + str(round(mae,3)) + ' MAPE:' + str(round(mape,3)) + ' MSE:' + str(round(mse,3)))"
   ]
  },
  {
   "cell_type": "markdown",
   "id": "158d292a",
   "metadata": {},
   "source": [
    "## XGBoost model"
   ]
  },
  {
   "cell_type": "code",
   "execution_count": 26,
   "id": "c4103e70",
   "metadata": {
    "scrolled": false
   },
   "outputs": [
    {
     "name": "stdout",
     "output_type": "stream",
     "text": [
      "SVM Errors\n",
      "MAE:5.322 MAPE:0.019 MSE:52.915\n"
     ]
    }
   ],
   "source": [
    "XGB_model = XGBRegressor()\n",
    "mape = -cross_val_score(XGB_model,X_train,y_train,cv=4,scoring='neg_mean_absolute_percentage_error').mean()\n",
    "mae = -cross_val_score(XGB_model,X_train,y_train,cv=4,scoring='neg_mean_absolute_error').mean()\n",
    "mse = -cross_val_score(XGB_model,X_train,y_train,cv=4,scoring='neg_mean_squared_error').mean()\n",
    "print('SVM Errors')\n",
    "print('MAE:' + str(round(mae,3)) + ' MAPE:' + str(round(mape,3)) + ' MSE:' + str(round(mse,3)))"
   ]
  },
  {
   "cell_type": "code",
   "execution_count": 27,
   "id": "995a95b2",
   "metadata": {
    "scrolled": false
   },
   "outputs": [
    {
     "name": "stdout",
     "output_type": "stream",
     "text": [
      "MAE:4.604 MAPE:0.017 MSE:36.668\n"
     ]
    }
   ],
   "source": [
    "XGB_model.fit(X_train,y_train)\n",
    "mae = mean_absolute_error(y_test,XGB_model.predict(X_test)) \n",
    "mape = mean_absolute_percentage_error(y_test,XGB_model.predict(X_test)) \n",
    "mse = mean_squared_error(y_test,XGB_model.predict(X_test)) \n",
    "print('MAE:' + str(round(mae,3)) + ' MAPE:' + str(round(mape,3)) + ' MSE:' + str(round(mse,3)))"
   ]
  },
  {
   "cell_type": "markdown",
   "id": "985df912",
   "metadata": {},
   "source": [
    "Могу сделать вывод о том, что обе модели очень хорошо показали себя на тестовых и тренировочных данных. Даже при условии что занчений было так мало"
   ]
  },
  {
   "cell_type": "markdown",
   "id": "fb7c211d",
   "metadata": {},
   "source": [
    "## SHAP describing features impact"
   ]
  },
  {
   "cell_type": "markdown",
   "id": "fa384ccc",
   "metadata": {},
   "source": [
    "Решил попробовать выяснить влияние признаков на таргет"
   ]
  },
  {
   "cell_type": "code",
   "execution_count": 33,
   "id": "9653f6f9",
   "metadata": {},
   "outputs": [
    {
     "name": "stderr",
     "output_type": "stream",
     "text": [
      "ntree_limit is deprecated, use `iteration_range` or model slicing instead.\n",
      "auto_size_plot=False is deprecated and is now ignored! Use plot_size=None instead.\n"
     ]
    },
    {
     "data": {
      "image/png": "[encoded data removed]",
      "text/plain": [
       "<Figure size 576x367.2 with 2 Axes>"
      ]
     },
     "metadata": {
      "needs_background": "light"
     },
     "output_type": "display_data"
    }
   ],
   "source": [
    "shap_test = shap.TreeExplainer(XGB_model).shap_values(X_data)\n",
    "shap.summary_plot(shap_test, X_data, feature_names=['YEAR',\n",
    " 'AVG_ENROLL',\n",
    " 'AVG_FEDERAL_REVENUE',\n",
    " 'AVG_STATE_REVENUE',\n",
    " 'AVG_LOCAL_REVENUE',\n",
    " 'AVG_INSTRUCTION_EXPENDITURE',\n",
    " 'AVG_SUPPORT_SERVICES_EXPENDITURE',\n",
    " 'AVG_OTHER_EXPENDITURE',\n",
    " 'AVG_CAPITAL_OUTLAY_EXPENDITURE'],\n",
    "                      max_display=25, auto_size_plot=True)"
   ]
  },
  {
   "cell_type": "markdown",
   "id": "5ff91490",
   "metadata": {},
   "source": [
    "Как мы видим год влияет больше всего на результат. "
   ]
  }
 ],
 "metadata": {
  "kernelspec": {
   "display_name": "Python 3 (ipykernel)",
   "language": "python",
   "name": "python3"
  },
  "language_info": {
   "codemirror_mode": {
    "name": "ipython",
    "version": 3
   },
   "file_extension": ".py",
   "mimetype": "text/x-python",
   "name": "python",
   "nbconvert_exporter": "python",
   "pygments_lexer": "ipython3",
   "version": "3.9.7"
  }
 },
 "nbformat": 4,
 "nbformat_minor": 5
}
